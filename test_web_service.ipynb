{
 "cells": [
  {
   "cell_type": "markdown",
   "metadata": {},
   "source": [
    "# 1. Web Service 1"
   ]
  },
  {
   "cell_type": "markdown",
   "metadata": {},
   "source": [
    "## 1.1. Método POST"
   ]
  },
  {
   "cell_type": "code",
   "execution_count": 1,
   "metadata": {},
   "outputs": [
    {
     "data": {
      "text/plain": [
       "200"
      ]
     },
     "execution_count": 1,
     "metadata": {},
     "output_type": "execute_result"
    }
   ],
   "source": [
    "import requests\n",
    "import json\n",
    "\n",
    "# Definir endpoint\n",
    "url = 'http://127.0.0.1:8000/users'\n",
    "# url = 'https://4507-38-43-130-92.ngrok-free.app/users'\n",
    "\n",
    "# Definir la data que se enviará a la API\n",
    "data = {\"name\": \"Enrique Mejia\", \n",
    "        \"email\": \"enriquemejia@gmail.com\"}\n",
    "\n",
    "# Parámetros adicionales enviados con la solicitud\n",
    "headers = {\"Content-Type\": \"application/json\"}\n",
    "\n",
    "# Obtener respuesta a solicitud\n",
    "response = requests.post(url, \n",
    "                         data=json.dumps(data), \n",
    "                         headers=headers)\n",
    "\n",
    "# Obtener código de status de respuesta\n",
    "response.status_code"
   ]
  },
  {
   "cell_type": "code",
   "execution_count": 2,
   "metadata": {},
   "outputs": [
    {
     "data": {
      "text/plain": [
       "{'message': 'Usuario agregado exitosamente',\n",
       " 'user': {'email': 'enriquemejia@gmail.com', 'name': 'Enrique Mejia'}}"
      ]
     },
     "execution_count": 2,
     "metadata": {},
     "output_type": "execute_result"
    }
   ],
   "source": [
    "# Obtener contenido de respuesta\n",
    "response.json()"
   ]
  },
  {
   "cell_type": "markdown",
   "metadata": {},
   "source": [
    "# 2. Web Service 2"
   ]
  },
  {
   "cell_type": "markdown",
   "metadata": {},
   "source": [
    "## 2.1. Método POST"
   ]
  },
  {
   "cell_type": "code",
   "execution_count": 13,
   "metadata": {},
   "outputs": [
    {
     "data": {
      "text/plain": [
       "200"
      ]
     },
     "execution_count": 13,
     "metadata": {},
     "output_type": "execute_result"
    }
   ],
   "source": [
    "import requests\n",
    "import json\n",
    "\n",
    "# Definir endpoint\n",
    "url = 'http://127.0.0.1:8000/users'\n",
    "# url = 'https://510b-38-43-130-92.ngrok-free.app/users'\n",
    "\n",
    "# Definir la data que se enviará a la API\n",
    "data = {\"name\": \"Enrique Mejia\", \n",
    "        \"email\": \"enriquemejia@gmail.com\",\n",
    "        \"id\" :76218904}\n",
    "# Parámetros adicionales enviados con la solicitud\n",
    "headers = {\"Content-Type\": \"application/json\"}\n",
    "# Obtener respuesta a solicitud\n",
    "response = requests.post(url, data=json.dumps(data), headers=headers)\n",
    "# Obtener código de status de respuesta\n",
    "response.status_code"
   ]
  },
  {
   "cell_type": "code",
   "execution_count": 8,
   "metadata": {},
   "outputs": [
    {
     "data": {
      "text/plain": [
       "{'message': 'Usuario agregado exitosamente',\n",
       " 'user': {'id': 76218904,\n",
       "  'name': 'Enrique Mejia',\n",
       "  'email': 'enriquemejia@gmail.com'}}"
      ]
     },
     "execution_count": 8,
     "metadata": {},
     "output_type": "execute_result"
    }
   ],
   "source": [
    "# Obtener contenido de respuesta\n",
    "response.json()"
   ]
  },
  {
   "cell_type": "markdown",
   "metadata": {},
   "source": [
    "## 2.2. Método PUT"
   ]
  },
  {
   "cell_type": "code",
   "execution_count": 9,
   "metadata": {},
   "outputs": [
    {
     "data": {
      "text/plain": [
       "200"
      ]
     },
     "execution_count": 9,
     "metadata": {},
     "output_type": "execute_result"
    }
   ],
   "source": [
    "import requests\n",
    "import json\n",
    "\n",
    "# Definir endpoint\n",
    "url = 'https://510b-38-43-130-92.ngrok-free.app/put_users'\n",
    "# Definir la data que se enviará a la API\n",
    "data = {\"name\": \"Jose Mejia\", \n",
    "        \"email\": \"jose_enriquemejia@gmail.com\",\n",
    "        \"id\" :76218906}\n",
    "# Parámetros adicionales enviados con la solicitud\n",
    "headers = {\"Content-Type\": \"application/json\"}\n",
    "# Obtener respuesta a solicitud\n",
    "response = requests.put(url, data=json.dumps(data), headers=headers)\n",
    "# Obtener código de status de respuesta\n",
    "response.status_code"
   ]
  },
  {
   "cell_type": "code",
   "execution_count": 10,
   "metadata": {},
   "outputs": [
    {
     "data": {
      "text/plain": [
       "{'message': 'Usuario actualizado exitosamente',\n",
       " 'user_id': 76218906,\n",
       " 'user': {'id': 76218906,\n",
       "  'name': 'Jose Mejia',\n",
       "  'email': 'jose_enriquemejia@gmail.com'}}"
      ]
     },
     "execution_count": 10,
     "metadata": {},
     "output_type": "execute_result"
    }
   ],
   "source": [
    "# Obtener contenido de respuesta\n",
    "response.json()"
   ]
  },
  {
   "cell_type": "markdown",
   "metadata": {},
   "source": [
    "## 2.3. Método DELETE"
   ]
  },
  {
   "cell_type": "code",
   "execution_count": 11,
   "metadata": {},
   "outputs": [
    {
     "data": {
      "text/plain": [
       "200"
      ]
     },
     "execution_count": 11,
     "metadata": {},
     "output_type": "execute_result"
    }
   ],
   "source": [
    "import requests\n",
    "import json\n",
    "\n",
    "# Definir endpoint\n",
    "url = 'https://510b-38-43-130-92.ngrok-free.app/delete_users'\n",
    "# Definir la data que se enviará a la API\n",
    "data = {\"id\" :76218904}\n",
    "# Parámetros adicionales enviados con la solicitud\n",
    "headers = {\"Content-Type\": \"application/json\"}\n",
    "# Obtener respuesta a solicitud\n",
    "response = requests.delete(url, data=json.dumps(data), headers=headers)\n",
    "# Obtener código de status de respuesta\n",
    "response.status_code"
   ]
  },
  {
   "cell_type": "code",
   "execution_count": 12,
   "metadata": {},
   "outputs": [
    {
     "data": {
      "text/plain": [
       "{'message': 'Usuario eliminado exitosamente', 'user_id': 76218904}"
      ]
     },
     "execution_count": 12,
     "metadata": {},
     "output_type": "execute_result"
    }
   ],
   "source": [
    "# Obtener contenido de respuesta\n",
    "response.json()"
   ]
  },
  {
   "cell_type": "code",
   "execution_count": null,
   "metadata": {},
   "outputs": [],
   "source": []
  }
 ],
 "metadata": {
  "kernelspec": {
   "display_name": "Python 3",
   "language": "python",
   "name": "python3"
  },
  "language_info": {
   "codemirror_mode": {
    "name": "ipython",
    "version": 3
   },
   "file_extension": ".py",
   "mimetype": "text/x-python",
   "name": "python",
   "nbconvert_exporter": "python",
   "pygments_lexer": "ipython3",
   "version": "3.10.11"
  }
 },
 "nbformat": 4,
 "nbformat_minor": 2
}
