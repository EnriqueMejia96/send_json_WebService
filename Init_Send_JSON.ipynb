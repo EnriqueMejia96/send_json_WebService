{
 "cells": [
  {
   "cell_type": "code",
   "execution_count": null,
   "id": "70508358-f5d0-4b3d-907f-9ea4e316f7d4",
   "metadata": {},
   "outputs": [],
   "source": [
    "!git clone https://github.com/EnriqueMejia96/send_json_WebService.git"
   ]
  },
  {
   "cell_type": "code",
   "execution_count": null,
   "id": "e4f1abad-ca25-417a-a7db-ad4bd8c1e796",
   "metadata": {},
   "outputs": [],
   "source": [
    "!pip install fastapi uvicorn pydantic pyngrok"
   ]
  },
  {
   "cell_type": "code",
   "execution_count": null,
   "id": "1df565f8-05ef-47ca-82a6-cecea9be8c25",
   "metadata": {},
   "outputs": [],
   "source": [
    "from pyngrok import ngrok\n",
    "\n",
    "# Setup a tunnel to the streamlit port 8000\n",
    "public_url = ngrok.connect(port='8000')\n",
    "print('Public URL:', public_url)"
   ]
  },
  {
   "cell_type": "code",
   "execution_count": null,
   "id": "1aab3e90-16ce-4c72-a442-b448cb147444",
   "metadata": {},
   "outputs": [],
   "source": []
  }
 ],
 "metadata": {
  "environment": {
   "kernel": "conda-root-py",
   "name": "workbench-notebooks.m111",
   "type": "gcloud",
   "uri": "gcr.io/deeplearning-platform-release/workbench-notebooks:m111"
  },
  "kernelspec": {
   "display_name": "Python 3",
   "language": "python",
   "name": "conda-root-py"
  },
  "language_info": {
   "codemirror_mode": {
    "name": "ipython",
    "version": 3
   },
   "file_extension": ".py",
   "mimetype": "text/x-python",
   "name": "python",
   "nbconvert_exporter": "python",
   "pygments_lexer": "ipython3",
   "version": "3.10.12"
  }
 },
 "nbformat": 4,
 "nbformat_minor": 5
}
